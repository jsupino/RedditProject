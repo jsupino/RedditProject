{
 "cells": [
  {
   "cell_type": "code",
   "execution_count": 2,
   "id": "c6149fce",
   "metadata": {},
   "outputs": [
    {
     "name": "stdout",
     "output_type": "stream",
     "text": [
      "Requirement already satisfied: beautifulsoup4 in c:\\users\\supin\\anaconda3\\lib\\site-packages (4.10.0)Note: you may need to restart the kernel to use updated packages.\n",
      "\n",
      "Requirement already satisfied: soupsieve>1.2 in c:\\users\\supin\\anaconda3\\lib\\site-packages (from beautifulsoup4) (2.2.1)\n"
     ]
    }
   ],
   "source": [
    "#install BeautifulSoup\n",
    "pip install beautifulsoup4"
   ]
  },
  {
   "cell_type": "code",
   "execution_count": 4,
   "id": "95df72e4",
   "metadata": {},
   "outputs": [
    {
     "name": "stdout",
     "output_type": "stream",
     "text": [
      "Requirement already satisfied: requests in c:\\users\\supin\\anaconda3\\lib\\site-packages (2.26.0)Note: you may need to restart the kernel to use updated packages.\n",
      "Requirement already satisfied: certifi>=2017.4.17 in c:\\users\\supin\\anaconda3\\lib\\site-packages (from requests) (2021.10.8)\n",
      "Requirement already satisfied: urllib3<1.27,>=1.21.1 in c:\\users\\supin\\anaconda3\\lib\\site-packages (from requests) (1.26.7)\n",
      "Requirement already satisfied: charset-normalizer~=2.0.0 in c:\\users\\supin\\anaconda3\\lib\\site-packages (from requests) (2.0.4)\n",
      "Requirement already satisfied: idna<4,>=2.5 in c:\\users\\supin\\anaconda3\\lib\\site-packages (from requests) (3.2)\n",
      "\n"
     ]
    }
   ],
   "source": [
    "#install requests\n",
    "pip install requests"
   ]
  },
  {
   "cell_type": "code",
   "execution_count": 6,
   "id": "bd07ee72",
   "metadata": {},
   "outputs": [
    {
     "name": "stdout",
     "output_type": "stream",
     "text": [
      "Requirement already satisfied: lxml in c:\\users\\supin\\anaconda3\\lib\\site-packages (4.6.3)\n",
      "Note: you may need to restart the kernel to use updated packages.\n"
     ]
    }
   ],
   "source": [
    "#install lxml\n",
    "pip install lxml"
   ]
  },
  {
   "cell_type": "code",
   "execution_count": 15,
   "id": "5aa5cead",
   "metadata": {},
   "outputs": [],
   "source": [
    "#Import BeautifulSoup and requests\n",
    "from bs4 import BeautifulSoup\n",
    "import requests\n",
    "\n",
    "#access the user agent and url from the web page\n",
    "headers = {'User-Agent':'Mozilla/5.0 (Windows NT 10.0; Win64; x64) AppleWebKit/537.36 (KHTML, like Gecko) Chrome/101.0.4951.67 Safari/537.36'}\n",
    "url='https://www.reddit.com/r/nature'\n",
    "response=requests.get(url, {'headers':headers})\n",
    "\n",
    "#parse the html and prettify\n",
    "soup=BeautifulSoup(response.text,'html.parser')\n",
    "#print(soup.prettify)\n",
    "#commented out the print statement for space purposes. Too long when printed."
   ]
  },
  {
   "cell_type": "code",
   "execution_count": 14,
   "id": "aba01c77",
   "metadata": {
    "scrolled": true
   },
   "outputs": [
    {
     "name": "stdout",
     "output_type": "stream",
     "text": [
      "How Brazil is working to save the rare lion tamarins of the Atlantic Forest\n",
      "1.6k\n",
      "45 comments\n",
      "/r/nature/comments/v4ncv3/how_brazil_is_working_to_save_the_rare_lion/\n",
      "----------------------------------------\n",
      "Feds ponder endangered species protection for Yellowstone bison\n",
      "1.3k\n",
      "57 comments\n",
      "/r/nature/comments/v4nqyy/feds_ponder_endangered_species_protection_for/\n",
      "----------------------------------------\n",
      "In Australia, a bold effort to teach rare animals to fear cats\n",
      "207\n",
      "24 comments\n",
      "/r/nature/comments/v4o2m3/in_australia_a_bold_effort_to_teach_rare_animals/\n",
      "----------------------------------------\n",
      "So peaceful\n",
      "1\n",
      "0 comments\n",
      "/r/nature/comments/v4wuep/so_peaceful/\n",
      "----------------------------------------\n",
      "Fewer and weaker offspring: Snare injuries decrease reproductive performance of female hyenas in the Serengeti\n",
      "25\n",
      "0 comments\n",
      "/r/nature/comments/v4go3e/fewer_and_weaker_offspring_snare_injuries/\n",
      "----------------------------------------\n",
      "Rare albino Galapagos giant tortoise born in Swiss zoo\n",
      "2\n",
      "0 comments\n",
      "/r/nature/comments/v4sciy/rare_albino_galapagos_giant_tortoise_born_in/\n",
      "----------------------------------------\n",
      "World's largest plant is a vast seagrass meadow in Australia\n",
      "388\n",
      "11 comments\n",
      "/r/nature/comments/v3wcpe/worlds_largest_plant_is_a_vast_seagrass_meadow_in/\n",
      "----------------------------------------\n"
     ]
    }
   ],
   "source": [
    "#select and print the first 7 posts on the web page\n",
    "for item in soup.select('.Post')[:7]:\n",
    "    try:\n",
    "        print(item.select('._eYtD2XCVieq6emjKBH3m')[0].get_text()) #print title\n",
    "        print(item.select('._1rZYMD_4xY3gRcSS3p8ODO')[0].get_text()) #print likes\n",
    "        print(item.select('.FHCV02u6Cp2zYL0fhQPsO')[0].get_text()) #print comments\n",
    "        print(item.select('._2INHSNB8V5eaWp4P0rY_mE a[href]')[0]['href']) #access specific post url\n",
    "        print('----------------------------------------')\n",
    "    except Exception as e:\n",
    "        print('')"
   ]
  },
  {
   "cell_type": "code",
   "execution_count": null,
   "id": "25119732",
   "metadata": {},
   "outputs": [],
   "source": []
  }
 ],
 "metadata": {
  "kernelspec": {
   "display_name": "Python 3 (ipykernel)",
   "language": "python",
   "name": "python3"
  },
  "language_info": {
   "codemirror_mode": {
    "name": "ipython",
    "version": 3
   },
   "file_extension": ".py",
   "mimetype": "text/x-python",
   "name": "python",
   "nbconvert_exporter": "python",
   "pygments_lexer": "ipython3",
   "version": "3.9.7"
  }
 },
 "nbformat": 4,
 "nbformat_minor": 5
}
