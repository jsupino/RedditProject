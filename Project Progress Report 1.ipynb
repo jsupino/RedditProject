{
 "cells": [
  {
   "cell_type": "code",
   "execution_count": 5,
   "id": "ffd7b036",
   "metadata": {
    "scrolled": true
   },
   "outputs": [
    {
     "name": "stdout",
     "output_type": "stream",
     "text": [
      "Requirement already satisfied: beautifulsoup4 in c:\\users\\supin\\anaconda3\\lib\\site-packages (4.10.0)Note: you may need to restart the kernel to use updated packages.\n",
      "Requirement already satisfied: soupsieve>1.2 in c:\\users\\supin\\anaconda3\\lib\\site-packages (from beautifulsoup4) (2.2.1)\n",
      "\n"
     ]
    }
   ],
   "source": [
    "#install BeautifulSoup\n",
    "pip install beautifulsoup4"
   ]
  },
  {
   "cell_type": "code",
   "execution_count": 7,
   "id": "9702565b",
   "metadata": {
    "scrolled": true
   },
   "outputs": [
    {
     "name": "stdout",
     "output_type": "stream",
     "text": [
      "Requirement already satisfied: requests in c:\\users\\supin\\anaconda3\\lib\\site-packages (2.26.0)Note: you may need to restart the kernel to use updated packages.\n",
      "\n",
      "Requirement already satisfied: idna<4,>=2.5 in c:\\users\\supin\\anaconda3\\lib\\site-packages (from requests) (3.2)\n",
      "Requirement already satisfied: charset-normalizer~=2.0.0 in c:\\users\\supin\\anaconda3\\lib\\site-packages (from requests) (2.0.4)\n",
      "Requirement already satisfied: certifi>=2017.4.17 in c:\\users\\supin\\anaconda3\\lib\\site-packages (from requests) (2021.10.8)\n",
      "Requirement already satisfied: urllib3<1.27,>=1.21.1 in c:\\users\\supin\\anaconda3\\lib\\site-packages (from requests) (1.26.7)\n"
     ]
    }
   ],
   "source": [
    "#install requests\n",
    "pip install requests"
   ]
  },
  {
   "cell_type": "code",
   "execution_count": 8,
   "id": "14c3b5f7",
   "metadata": {},
   "outputs": [
    {
     "name": "stdout",
     "output_type": "stream",
     "text": [
      "Requirement already satisfied: lxml in c:\\users\\supin\\anaconda3\\lib\\site-packages (4.6.3)\n",
      "Note: you may need to restart the kernel to use updated packages.\n"
     ]
    }
   ],
   "source": [
    "#install lxml\n",
    "pip install lxml"
   ]
  },
  {
   "cell_type": "code",
   "execution_count": 13,
   "id": "62a8a2c2",
   "metadata": {},
   "outputs": [],
   "source": [
    "#Import BeautifulSoup and requests\n",
    "from bs4 import BeautifulSoup\n",
    "import requests\n",
    "\n",
    "#access the user agent and url from the web page\n",
    "headers = {'User-Agent':'Mozilla/5.0 (Windows NT 10.0; Win64; x64) AppleWebKit/537.36 (KHTML, like Gecko) Chrome/101.0.4951.67 Safari/537.36'}\n",
    "url='https://www.reddit.com/r/nature'\n",
    "response=requests.get(url, {'headers':headers})\n",
    "\n",
    "#parse the html\n",
    "soup=BeautifulSoup(response.text,'html.parser')\n",
    "#print(soup)\n",
    "#utilized the prettify function to view page, but commented it out for space purposes. Too long when printed."
   ]
  },
  {
   "cell_type": "code",
   "execution_count": 12,
   "id": "c2c203a5",
   "metadata": {
    "scrolled": true
   },
   "outputs": [
    {
     "name": "stdout",
     "output_type": "stream",
     "text": [
      "Activists Demand Permanent Environmental Protections for Arctic Wildlife Refuge\n",
      "214\n",
      "1 comment\n",
      "/r/nature/comments/v5gfaw/activists_demand_permanent_environmental/\n",
      "----------------------------------------\n",
      "Giraffes Are One Step Closer To Endangered Species Act Protections After The U.S. Government Agrees To Make A Decision By The End Of 2024\n",
      "112\n",
      "7 comments\n",
      "/r/nature/comments/v59zmm/giraffes_are_one_step_closer_to_endangered/\n",
      "----------------------------------------\n",
      "Ancient Cypress in Chile May be World’s Oldest Tree, at 5,000 Years Old\n",
      "9\n",
      "0 comments\n",
      "/r/nature/comments/v5j8kv/ancient_cypress_in_chile_may_be_worlds_oldest/\n",
      "----------------------------------------\n",
      "Roundup weedkiller damages wild bee colonies, study reveals\n",
      "7\n",
      "1 comment\n",
      "/r/nature/comments/v5jsny/roundup_weedkiller_damages_wild_bee_colonies/\n",
      "----------------------------------------\n",
      "How Brazil is working to save the rare lion tamarins of the Atlantic Forest\n",
      "1.7k\n",
      "48 comments\n",
      "/r/nature/comments/v4ncv3/how_brazil_is_working_to_save_the_rare_lion/\n",
      "----------------------------------------\n",
      "Feds ponder endangered species protection for Yellowstone bison\n",
      "1.4k\n",
      "59 comments\n",
      "/r/nature/comments/v4nqyy/feds_ponder_endangered_species_protection_for/\n",
      "----------------------------------------\n",
      "In Australia, a bold effort to teach rare animals to fear cats\n",
      "216\n",
      "26 comments\n",
      "/r/nature/comments/v4o2m3/in_australia_a_bold_effort_to_teach_rare_animals/\n",
      "----------------------------------------\n"
     ]
    }
   ],
   "source": [
    "#select and print posts on the web page\n",
    "for item in soup.select('.Post'):\n",
    "    try:\n",
    "        print(item.select('._eYtD2XCVieq6emjKBH3m')[0].get_text()) #print title\n",
    "        print(item.select('._1rZYMD_4xY3gRcSS3p8ODO')[0].get_text()) #print likes\n",
    "        print(item.select('.FHCV02u6Cp2zYL0fhQPsO')[0].get_text()) #print comments\n",
    "        print(item.select('._2INHSNB8V5eaWp4P0rY_mE a[href]')[0]['href']) #access specific post\n",
    "        print('----------------------------------------') #separator between posts\n",
    "    except Exception as e:\n",
    "        print('')"
   ]
  },
  {
   "cell_type": "code",
   "execution_count": null,
   "id": "8a4bc97b",
   "metadata": {},
   "outputs": [],
   "source": []
  }
 ],
 "metadata": {
  "kernelspec": {
   "display_name": "Python 3 (ipykernel)",
   "language": "python",
   "name": "python3"
  },
  "language_info": {
   "codemirror_mode": {
    "name": "ipython",
    "version": 3
   },
   "file_extension": ".py",
   "mimetype": "text/x-python",
   "name": "python",
   "nbconvert_exporter": "python",
   "pygments_lexer": "ipython3",
   "version": "3.9.7"
  }
 },
 "nbformat": 4,
 "nbformat_minor": 5
}
